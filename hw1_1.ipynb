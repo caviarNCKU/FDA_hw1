{
 "cells": [
  {
   "cell_type": "markdown",
   "metadata": {},
   "source": [
    "# Part 1"
   ]
  },
  {
   "cell_type": "markdown",
   "metadata": {},
   "source": [
    "## 1. Top-10 Reviewer"
   ]
  },
  {
   "cell_type": "code",
   "execution_count": 1,
   "metadata": {},
   "outputs": [],
   "source": [
    "import pandas as pd\n",
    "import matplotlib.pyplot as plt"
   ]
  },
  {
   "cell_type": "code",
   "execution_count": 2,
   "metadata": {},
   "outputs": [],
   "source": [
    "pd_data = pd.read_csv('Reviews.csv')\n",
    "pd_data = pd_data[:10000]\n",
    "pd_data = pd_data.drop(['Id', 'ProductId', 'HelpfulnessNumerator', 'HelpfulnessDenominator', 'Time', 'Text','Summary'], axis = 1)"
   ]
  },
  {
   "cell_type": "code",
   "execution_count": 3,
   "metadata": {},
   "outputs": [],
   "source": [
    "score_count = pd.DataFrame(pd_data['UserId'].value_counts().reset_index())\n",
    "score_count.columns = ['UserId', 'Score count']\n",
    "\n",
    "temp = score_count.drop_duplicates()\n",
    "temp = temp.head(10)\n",
    "temp['Score mean'] = 0.0"
   ]
  },
  {
   "cell_type": "code",
   "execution_count": 4,
   "metadata": {},
   "outputs": [],
   "source": [
    "merge = pd.merge(score_count, pd_data, on='UserId')\n",
    "merge = merge[['UserId', 'ProfileName', 'Score count', 'Score']]\n",
    "temp2 = merge[['UserId', 'ProfileName', 'Score count']].drop_duplicates().head(10)"
   ]
  },
  {
   "cell_type": "code",
   "execution_count": 5,
   "metadata": {},
   "outputs": [],
   "source": [
    "for index, row in temp.iterrows():\n",
    "    score_mean = merge[merge['UserId'] == row['UserId']][['Score']].sum() / row['Score count']\n",
    "    temp.at[index, 'Score mean'] = score_mean"
   ]
  },
  {
   "cell_type": "code",
   "execution_count": 6,
   "metadata": {},
   "outputs": [
    {
     "data": {
      "text/html": [
       "<div>\n",
       "<style scoped>\n",
       "    .dataframe tbody tr th:only-of-type {\n",
       "        vertical-align: middle;\n",
       "    }\n",
       "\n",
       "    .dataframe tbody tr th {\n",
       "        vertical-align: top;\n",
       "    }\n",
       "\n",
       "    .dataframe thead th {\n",
       "        text-align: right;\n",
       "    }\n",
       "</style>\n",
       "<table border=\"1\" class=\"dataframe\">\n",
       "  <thead>\n",
       "    <tr style=\"text-align: right;\">\n",
       "      <th></th>\n",
       "      <th>UserId</th>\n",
       "      <th>ProfileName</th>\n",
       "      <th>Score count</th>\n",
       "      <th>Score mean</th>\n",
       "    </tr>\n",
       "  </thead>\n",
       "  <tbody>\n",
       "    <tr>\n",
       "      <th>0</th>\n",
       "      <td>A1Z54EM24Y40LL</td>\n",
       "      <td>c2</td>\n",
       "      <td>17</td>\n",
       "      <td>3.882353</td>\n",
       "    </tr>\n",
       "    <tr>\n",
       "      <th>1</th>\n",
       "      <td>A2SZLNSI5KOQJT</td>\n",
       "      <td>Carrie, \"Formerly &amp;#34;Sister Carrie&amp;#34;\"</td>\n",
       "      <td>10</td>\n",
       "      <td>3.800000</td>\n",
       "    </tr>\n",
       "    <tr>\n",
       "      <th>2</th>\n",
       "      <td>A35R32TA60XD57</td>\n",
       "      <td>M. Torma</td>\n",
       "      <td>9</td>\n",
       "      <td>4.111111</td>\n",
       "    </tr>\n",
       "    <tr>\n",
       "      <th>3</th>\n",
       "      <td>A281NPSIMI1C2R</td>\n",
       "      <td>Rebecca of Amazon \"The Rebecca Review\"</td>\n",
       "      <td>8</td>\n",
       "      <td>5.000000</td>\n",
       "    </tr>\n",
       "    <tr>\n",
       "      <th>4</th>\n",
       "      <td>A3PJZ8TU8FDQ1K</td>\n",
       "      <td>Jared Castle</td>\n",
       "      <td>7</td>\n",
       "      <td>4.714286</td>\n",
       "    </tr>\n",
       "    <tr>\n",
       "      <th>5</th>\n",
       "      <td>A3NHUQ33CFH3VM</td>\n",
       "      <td>Citizen John</td>\n",
       "      <td>7</td>\n",
       "      <td>3.142857</td>\n",
       "    </tr>\n",
       "    <tr>\n",
       "      <th>6</th>\n",
       "      <td>A3OXHLG6DIBRW8</td>\n",
       "      <td>C. F. Hill \"CFH\"</td>\n",
       "      <td>7</td>\n",
       "      <td>4.428571</td>\n",
       "    </tr>\n",
       "    <tr>\n",
       "      <th>7</th>\n",
       "      <td>A3TX6CWSZL02PW</td>\n",
       "      <td>LaVerne \":LaVerne\"</td>\n",
       "      <td>6</td>\n",
       "      <td>5.000000</td>\n",
       "    </tr>\n",
       "    <tr>\n",
       "      <th>8</th>\n",
       "      <td>AQQLWCMRNDFGI</td>\n",
       "      <td>Steven A. Peterson</td>\n",
       "      <td>6</td>\n",
       "      <td>4.166667</td>\n",
       "    </tr>\n",
       "    <tr>\n",
       "      <th>9</th>\n",
       "      <td>A10H24TDLK2VDP</td>\n",
       "      <td>William Jens Jensen</td>\n",
       "      <td>6</td>\n",
       "      <td>3.000000</td>\n",
       "    </tr>\n",
       "  </tbody>\n",
       "</table>\n",
       "</div>"
      ],
      "text/plain": [
       "           UserId                                 ProfileName  Score count  \\\n",
       "0  A1Z54EM24Y40LL                                          c2           17   \n",
       "1  A2SZLNSI5KOQJT  Carrie, \"Formerly &#34;Sister Carrie&#34;\"           10   \n",
       "2  A35R32TA60XD57                                    M. Torma            9   \n",
       "3  A281NPSIMI1C2R      Rebecca of Amazon \"The Rebecca Review\"            8   \n",
       "4  A3PJZ8TU8FDQ1K                                Jared Castle            7   \n",
       "5  A3NHUQ33CFH3VM                                Citizen John            7   \n",
       "6  A3OXHLG6DIBRW8                            C. F. Hill \"CFH\"            7   \n",
       "7  A3TX6CWSZL02PW                          LaVerne \":LaVerne\"            6   \n",
       "8   AQQLWCMRNDFGI                          Steven A. Peterson            6   \n",
       "9  A10H24TDLK2VDP                         William Jens Jensen            6   \n",
       "\n",
       "   Score mean  \n",
       "0    3.882353  \n",
       "1    3.800000  \n",
       "2    4.111111  \n",
       "3    5.000000  \n",
       "4    4.714286  \n",
       "5    3.142857  \n",
       "6    4.428571  \n",
       "7    5.000000  \n",
       "8    4.166667  \n",
       "9    3.000000  "
      ]
     },
     "execution_count": 6,
     "metadata": {},
     "output_type": "execute_result"
    }
   ],
   "source": [
    "merge2 = pd.merge(temp2, temp)\n",
    "merge2"
   ]
  },
  {
   "cell_type": "markdown",
   "metadata": {},
   "source": [
    "## 2. Plot score distribution for the user with the most number of view"
   ]
  },
  {
   "cell_type": "code",
   "execution_count": 7,
   "metadata": {},
   "outputs": [],
   "source": [
    "import numpy as np"
   ]
  },
  {
   "cell_type": "code",
   "execution_count": 8,
   "metadata": {},
   "outputs": [],
   "source": [
    "pd_data = pd.read_csv('Reviews.csv')\n",
    "pd_data = pd_data[:10000]\n",
    "pd_data = pd_data.drop(['Id', 'ProductId', 'HelpfulnessNumerator', 'HelpfulnessDenominator', 'Time', 'Text','Summary'], axis = 1)"
   ]
  },
  {
   "cell_type": "code",
   "execution_count": 9,
   "metadata": {},
   "outputs": [
    {
     "data": {
      "text/html": [
       "<div>\n",
       "<style scoped>\n",
       "    .dataframe tbody tr th:only-of-type {\n",
       "        vertical-align: middle;\n",
       "    }\n",
       "\n",
       "    .dataframe tbody tr th {\n",
       "        vertical-align: top;\n",
       "    }\n",
       "\n",
       "    .dataframe thead th {\n",
       "        text-align: right;\n",
       "    }\n",
       "</style>\n",
       "<table border=\"1\" class=\"dataframe\">\n",
       "  <thead>\n",
       "    <tr style=\"text-align: right;\">\n",
       "      <th></th>\n",
       "      <th>UserId</th>\n",
       "      <th>ProfileName</th>\n",
       "      <th>Score count</th>\n",
       "      <th>Score</th>\n",
       "    </tr>\n",
       "  </thead>\n",
       "  <tbody>\n",
       "    <tr>\n",
       "      <th>0</th>\n",
       "      <td>A1Z54EM24Y40LL</td>\n",
       "      <td>c2</td>\n",
       "      <td>17</td>\n",
       "      <td>5</td>\n",
       "    </tr>\n",
       "    <tr>\n",
       "      <th>1</th>\n",
       "      <td>A1Z54EM24Y40LL</td>\n",
       "      <td>c2</td>\n",
       "      <td>17</td>\n",
       "      <td>5</td>\n",
       "    </tr>\n",
       "    <tr>\n",
       "      <th>2</th>\n",
       "      <td>A1Z54EM24Y40LL</td>\n",
       "      <td>c2</td>\n",
       "      <td>17</td>\n",
       "      <td>5</td>\n",
       "    </tr>\n",
       "    <tr>\n",
       "      <th>3</th>\n",
       "      <td>A1Z54EM24Y40LL</td>\n",
       "      <td>c2</td>\n",
       "      <td>17</td>\n",
       "      <td>3</td>\n",
       "    </tr>\n",
       "    <tr>\n",
       "      <th>4</th>\n",
       "      <td>A1Z54EM24Y40LL</td>\n",
       "      <td>c2</td>\n",
       "      <td>17</td>\n",
       "      <td>4</td>\n",
       "    </tr>\n",
       "    <tr>\n",
       "      <th>5</th>\n",
       "      <td>A1Z54EM24Y40LL</td>\n",
       "      <td>c2</td>\n",
       "      <td>17</td>\n",
       "      <td>4</td>\n",
       "    </tr>\n",
       "    <tr>\n",
       "      <th>6</th>\n",
       "      <td>A1Z54EM24Y40LL</td>\n",
       "      <td>c2</td>\n",
       "      <td>17</td>\n",
       "      <td>5</td>\n",
       "    </tr>\n",
       "    <tr>\n",
       "      <th>7</th>\n",
       "      <td>A1Z54EM24Y40LL</td>\n",
       "      <td>c2</td>\n",
       "      <td>17</td>\n",
       "      <td>2</td>\n",
       "    </tr>\n",
       "    <tr>\n",
       "      <th>8</th>\n",
       "      <td>A1Z54EM24Y40LL</td>\n",
       "      <td>c2</td>\n",
       "      <td>17</td>\n",
       "      <td>5</td>\n",
       "    </tr>\n",
       "    <tr>\n",
       "      <th>9</th>\n",
       "      <td>A1Z54EM24Y40LL</td>\n",
       "      <td>c2</td>\n",
       "      <td>17</td>\n",
       "      <td>3</td>\n",
       "    </tr>\n",
       "    <tr>\n",
       "      <th>10</th>\n",
       "      <td>A1Z54EM24Y40LL</td>\n",
       "      <td>c2</td>\n",
       "      <td>17</td>\n",
       "      <td>1</td>\n",
       "    </tr>\n",
       "    <tr>\n",
       "      <th>11</th>\n",
       "      <td>A1Z54EM24Y40LL</td>\n",
       "      <td>c2</td>\n",
       "      <td>17</td>\n",
       "      <td>3</td>\n",
       "    </tr>\n",
       "    <tr>\n",
       "      <th>12</th>\n",
       "      <td>A1Z54EM24Y40LL</td>\n",
       "      <td>c2</td>\n",
       "      <td>17</td>\n",
       "      <td>5</td>\n",
       "    </tr>\n",
       "    <tr>\n",
       "      <th>13</th>\n",
       "      <td>A1Z54EM24Y40LL</td>\n",
       "      <td>c2</td>\n",
       "      <td>17</td>\n",
       "      <td>5</td>\n",
       "    </tr>\n",
       "    <tr>\n",
       "      <th>14</th>\n",
       "      <td>A1Z54EM24Y40LL</td>\n",
       "      <td>c2</td>\n",
       "      <td>17</td>\n",
       "      <td>4</td>\n",
       "    </tr>\n",
       "    <tr>\n",
       "      <th>15</th>\n",
       "      <td>A1Z54EM24Y40LL</td>\n",
       "      <td>c2</td>\n",
       "      <td>17</td>\n",
       "      <td>3</td>\n",
       "    </tr>\n",
       "    <tr>\n",
       "      <th>16</th>\n",
       "      <td>A1Z54EM24Y40LL</td>\n",
       "      <td>c2</td>\n",
       "      <td>17</td>\n",
       "      <td>4</td>\n",
       "    </tr>\n",
       "  </tbody>\n",
       "</table>\n",
       "</div>"
      ],
      "text/plain": [
       "            UserId ProfileName  Score count  Score\n",
       "0   A1Z54EM24Y40LL          c2           17      5\n",
       "1   A1Z54EM24Y40LL          c2           17      5\n",
       "2   A1Z54EM24Y40LL          c2           17      5\n",
       "3   A1Z54EM24Y40LL          c2           17      3\n",
       "4   A1Z54EM24Y40LL          c2           17      4\n",
       "5   A1Z54EM24Y40LL          c2           17      4\n",
       "6   A1Z54EM24Y40LL          c2           17      5\n",
       "7   A1Z54EM24Y40LL          c2           17      2\n",
       "8   A1Z54EM24Y40LL          c2           17      5\n",
       "9   A1Z54EM24Y40LL          c2           17      3\n",
       "10  A1Z54EM24Y40LL          c2           17      1\n",
       "11  A1Z54EM24Y40LL          c2           17      3\n",
       "12  A1Z54EM24Y40LL          c2           17      5\n",
       "13  A1Z54EM24Y40LL          c2           17      5\n",
       "14  A1Z54EM24Y40LL          c2           17      4\n",
       "15  A1Z54EM24Y40LL          c2           17      3\n",
       "16  A1Z54EM24Y40LL          c2           17      4"
      ]
     },
     "execution_count": 9,
     "metadata": {},
     "output_type": "execute_result"
    }
   ],
   "source": [
    "score_count = pd.DataFrame(pd_data['UserId'].value_counts().reset_index())\n",
    "score_count.columns = ['UserId', 'Score count']\n",
    "merge = pd.merge(score_count, pd_data, on='UserId')\n",
    "merge = merge[['UserId', 'ProfileName', 'Score count', 'Score']]\n",
    "view = score_count.iat[0,1]\n",
    "merge = merge.head(view)"
   ]
  },
  {
   "cell_type": "code",
   "execution_count": 10,
   "metadata": {},
   "outputs": [
    {
     "data": {
      "text/plain": [
       "(array([1., 0., 1., 0., 0., 4., 0., 4., 0., 7.]),\n",
       " array([1. , 1.4, 1.8, 2.2, 2.6, 3. , 3.4, 3.8, 4.2, 4.6, 5. ]),\n",
       " <a list of 10 Patch objects>)"
      ]
     },
     "execution_count": 10,
     "metadata": {},
     "output_type": "execute_result"
    },
    {
     "data": {
      "image/png": "[encoded data removed]",
      "text/plain": [
       "<Figure size 432x288 with 1 Axes>"
      ]
     },
     "metadata": {
      "needs_background": "light"
     },
     "output_type": "display_data"
    }
   ],
   "source": [
    "plt.hist(merge['Score'])"
   ]
  },
  {
   "cell_type": "markdown",
   "metadata": {},
   "source": [
    "## 3. Plot pandas Series DataFrame(Time->Date)"
   ]
  },
  {
   "cell_type": "code",
   "execution_count": 11,
   "metadata": {},
   "outputs": [],
   "source": [
    "pd_data = pd.read_csv('Reviews.csv')\n",
    "pd_data = pd_data[:10000]"
   ]
  },
  {
   "cell_type": "code",
   "execution_count": 12,
   "metadata": {},
   "outputs": [],
   "source": [
    "pd_data = pd_data.drop(['Id', 'ProductId','UserId', 'ProfileName', 'Score', 'HelpfulnessNumerator', 'HelpfulnessDenominator', 'Text','Summary'], axis = 1)"
   ]
  },
  {
   "cell_type": "code",
   "execution_count": 13,
   "metadata": {
    "scrolled": true
   },
   "outputs": [],
   "source": [
    "pd_data['Time'] = pd.to_datetime(pd_data['Time'], unit='s')"
   ]
  },
  {
   "cell_type": "code",
   "execution_count": 14,
   "metadata": {},
   "outputs": [
    {
     "data": {
      "text/plain": [
       "Text(0.5, 1.0, 'Review count by year')"
      ]
     },
     "execution_count": 14,
     "metadata": {},
     "output_type": "execute_result"
    },
    {
     "data": {
      "image/png": "[encoded data removed]",
      "text/plain": [
       "<Figure size 432x288 with 1 Axes>"
      ]
     },
     "metadata": {
      "needs_background": "light"
     },
     "output_type": "display_data"
    }
   ],
   "source": [
    "pd_data['year'] = pd_data['Time'].apply(lambda x: x.year)\n",
    "review_count = pd.DataFrame(pd_data['year'].value_counts().reset_index())\n",
    "review_count = review_count.rename(columns={'index': 'Review year', 'year': 'Review count'})\n",
    "plt.bar(review_count['Review year'], review_count['Review count'])\n",
    "plt.xlabel('Review year')\n",
    "plt.ylabel('Review count')\n",
    "plt.title('Review count by year')"
   ]
  },
  {
   "cell_type": "markdown",
   "metadata": {},
   "source": [
    "## 4. Plot HeatMap using seaborn"
   ]
  },
  {
   "cell_type": "code",
   "execution_count": 15,
   "metadata": {},
   "outputs": [],
   "source": [
    "import seaborn as sns"
   ]
  },
  {
   "cell_type": "code",
   "execution_count": 16,
   "metadata": {},
   "outputs": [],
   "source": [
    "pd_data = pd.read_csv('Reviews.csv')\n",
    "pd_data = pd_data[:10000]\n",
    "pd_data = pd_data.drop(['ProductId', 'UserId', 'ProfileName', 'Text', 'Summary'], axis = 1)"
   ]
  },
  {
   "cell_type": "code",
   "execution_count": 17,
   "metadata": {},
   "outputs": [
    {
     "data": {
      "image/png": "[encoded data removed]",
      "text/plain": [
       "<Figure size 864x720 with 2 Axes>"
      ]
     },
     "metadata": {
      "needs_background": "light"
     },
     "output_type": "display_data"
    }
   ],
   "source": [
    "plt.figure(figsize=(12,10))\n",
    "foo = sns.heatmap(pd_data.corr(), vmax=0.6, square=True, annot=True)"
   ]
  },
  {
   "cell_type": "markdown",
   "metadata": {},
   "source": [
    "## 5. Helpful percent"
   ]
  },
  {
   "cell_type": "code",
   "execution_count": 18,
   "metadata": {},
   "outputs": [],
   "source": [
    "pd_data = pd.read_csv('Reviews.csv')\n",
    "pd_data = pd_data[:10000]\n",
    "pd_data = pd_data.drop(['Id', 'ProductId', 'UserId', 'ProfileName', 'Text', 'Summary', 'Score', 'Time'], axis = 1)"
   ]
  },
  {
   "cell_type": "code",
   "execution_count": 19,
   "metadata": {},
   "outputs": [],
   "source": [
    "pd_data['Ratio'] = 0.0\n",
    "pd_data.loc[(pd_data['HelpfulnessNumerator'] == 0) & (pd_data['HelpfulnessDenominator'] == 0), ['Ratio']] = -1.0\n",
    "pd_data.loc[(pd_data['HelpfulnessNumerator'] != 0) | (pd_data['HelpfulnessDenominator'] != 0), ['Ratio']] = pd_data['HelpfulnessNumerator'] / pd_data['HelpfulnessDenominator']"
   ]
  },
  {
   "cell_type": "code",
   "execution_count": 20,
   "metadata": {},
   "outputs": [
    {
     "data": {
      "image/png": "[encoded data removed]",
      "text/plain": [
       "<Figure size 432x288 with 1 Axes>"
      ]
     },
     "metadata": {
      "needs_background": "light"
     },
     "output_type": "display_data"
    }
   ],
   "source": [
    "plt.hist(pd_data['Ratio'])\n",
    "plt.grid(True)"
   ]
  }
 ],
 "metadata": {
  "kernelspec": {
   "display_name": "Python 3",
   "language": "python",
   "name": "python3"
  },
  "language_info": {
   "codemirror_mode": {
    "name": "ipython",
    "version": 3
   },
   "file_extension": ".py",
   "mimetype": "text/x-python",
   "name": "python",
   "nbconvert_exporter": "python",
   "pygments_lexer": "ipython3",
   "version": "3.7.1"
  }
 },
 "nbformat": 4,
 "nbformat_minor": 2
}
